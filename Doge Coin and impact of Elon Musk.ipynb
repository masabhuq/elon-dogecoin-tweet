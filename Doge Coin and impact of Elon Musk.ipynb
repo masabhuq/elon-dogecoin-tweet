{
 "cells": [
  {
   "cell_type": "markdown",
   "id": "367c20a5-9409-4da4-96ca-a8f783a43e8f",
   "metadata": {},
   "source": [
    "# Topic\n",
    "Elon musk first tweeted about doge coin in 20th December of 2020. It is assumed that because of this tweet, the dogecoin prices went up by 20%. We will verify this impact using google causal impact.\n",
    "<br>\n",
    "[Link to the tweet](https://twitter.com/elonmusk/status/1340590280848908288)"
   ]
  },
  {
   "cell_type": "code",
   "execution_count": 1,
   "id": "8c50755a-5548-4d4f-a60f-ee53750629c0",
   "metadata": {},
   "outputs": [
    {
     "name": "stderr",
     "output_type": "stream",
     "text": [
      "2023-04-29 08:38:43.832136: I tensorflow/tsl/cuda/cudart_stub.cc:28] Could not find cuda drivers on your machine, GPU will not be used.\n",
      "2023-04-29 08:38:43.882626: I tensorflow/tsl/cuda/cudart_stub.cc:28] Could not find cuda drivers on your machine, GPU will not be used.\n",
      "2023-04-29 08:38:43.883663: I tensorflow/core/platform/cpu_feature_guard.cc:182] This TensorFlow binary is optimized to use available CPU instructions in performance-critical operations.\n",
      "To enable the following instructions: AVX2 AVX512F FMA, in other operations, rebuild TensorFlow with the appropriate compiler flags.\n",
      "2023-04-29 08:38:44.730237: W tensorflow/compiler/tf2tensorrt/utils/py_utils.cc:38] TF-TRT Warning: Could not find TensorRT\n"
     ]
    }
   ],
   "source": [
    "import yfinance as yf\n",
    "import pandas as pd\n",
    "from causalimpact import CausalImpact \n",
    "import seaborn as sns\n",
    "import matplotlib.pyplot as plt"
   ]
  },
  {
   "cell_type": "markdown",
   "id": "8befcb9d-fe36-4a9f-809a-dfdf0d9b580e",
   "metadata": {
    "tags": []
   },
   "source": [
    "# Data Collection"
   ]
  },
  {
   "cell_type": "markdown",
   "id": "fb6af0ac-02df-47b1-9efd-a795beb8157f",
   "metadata": {},
   "source": [
    "## Setting the Dates"
   ]
  },
  {
   "cell_type": "code",
   "execution_count": 2,
   "id": "e9a559af-f4db-4f5b-a3ab-6bc44a853eab",
   "metadata": {},
   "outputs": [],
   "source": [
    "#Dates\n",
    "training_start = \"2019-12-19\"\n",
    "training_end = \"2020-12-19\"\n",
    "treatment_start = \"2020-12-20\"\n",
    "treatment_end = \"2021-01-31\"\n",
    "end_stock = \"2021-02-01\""
   ]
  },
  {
   "cell_type": "markdown",
   "id": "a5e34685-cc61-45a3-afd9-effa5825822c",
   "metadata": {},
   "source": [
    "## Downloading from Yahoo Finances"
   ]
  },
  {
   "cell_type": "code",
   "execution_count": 3,
   "id": "e716c90d-3e58-446c-a429-82fc5423abf6",
   "metadata": {},
   "outputs": [
    {
     "name": "stdout",
     "output_type": "stream",
     "text": [
      "[*********************100%***********************]  1 of 1 completed\n"
     ]
    },
    {
     "data": {
      "text/plain": [
       "Date\n",
       "2019-12-19    0.002123\n",
       "2019-12-20    0.002075\n",
       "2019-12-21    0.002084\n",
       "2019-12-22    0.002115\n",
       "2019-12-23    0.002073\n",
       "Name: y, dtype: float64"
      ]
     },
     "execution_count": 3,
     "metadata": {},
     "output_type": "execute_result"
    }
   ],
   "source": [
    "#Download VW stock\n",
    "y = [\"DOGE-USD\"]\n",
    "y = yf.download(tickers = y,\n",
    "                start = training_start,\n",
    "                end = end_stock,\n",
    "                interval = \"1d\")\n",
    "y = y['Adj Close'].rename(\"y\")\n",
    "y.head(5)"
   ]
  },
  {
   "cell_type": "code",
   "execution_count": 4,
   "id": "9a9b32b5-25a9-4dfe-936a-37aad44d60e7",
   "metadata": {},
   "outputs": [
    {
     "name": "stdout",
     "output_type": "stream",
     "text": [
      "[*********************100%***********************]  7 of 7 completed\n"
     ]
    },
    {
     "data": {
      "text/html": [
       "<div>\n",
       "<style scoped>\n",
       "    .dataframe tbody tr th:only-of-type {\n",
       "        vertical-align: middle;\n",
       "    }\n",
       "\n",
       "    .dataframe tbody tr th {\n",
       "        vertical-align: top;\n",
       "    }\n",
       "\n",
       "    .dataframe thead th {\n",
       "        text-align: right;\n",
       "    }\n",
       "</style>\n",
       "<table border=\"1\" class=\"dataframe\">\n",
       "  <thead>\n",
       "    <tr style=\"text-align: right;\">\n",
       "      <th></th>\n",
       "      <th>DOGEC-USD</th>\n",
       "      <th>GRLC-USD</th>\n",
       "      <th>LCC-USD</th>\n",
       "      <th>MONA-USD</th>\n",
       "      <th>POT-USD</th>\n",
       "      <th>RDD-USD</th>\n",
       "      <th>TIPS-USD</th>\n",
       "    </tr>\n",
       "    <tr>\n",
       "      <th>Date</th>\n",
       "      <th></th>\n",
       "      <th></th>\n",
       "      <th></th>\n",
       "      <th></th>\n",
       "      <th></th>\n",
       "      <th></th>\n",
       "      <th></th>\n",
       "    </tr>\n",
       "  </thead>\n",
       "  <tbody>\n",
       "    <tr>\n",
       "      <th>2019-12-19</th>\n",
       "      <td>0.010818</td>\n",
       "      <td>0.000503</td>\n",
       "      <td>0.007144</td>\n",
       "      <td>0.769842</td>\n",
       "      <td>0.005842</td>\n",
       "      <td>0.000650</td>\n",
       "      <td>1.000000e-06</td>\n",
       "    </tr>\n",
       "    <tr>\n",
       "      <th>2019-12-20</th>\n",
       "      <td>0.011914</td>\n",
       "      <td>0.000505</td>\n",
       "      <td>0.007004</td>\n",
       "      <td>0.787640</td>\n",
       "      <td>0.005849</td>\n",
       "      <td>0.000651</td>\n",
       "      <td>1.000000e-06</td>\n",
       "    </tr>\n",
       "    <tr>\n",
       "      <th>2019-12-21</th>\n",
       "      <td>0.013660</td>\n",
       "      <td>0.000647</td>\n",
       "      <td>0.006968</td>\n",
       "      <td>0.803981</td>\n",
       "      <td>0.005248</td>\n",
       "      <td>0.000578</td>\n",
       "      <td>1.000000e-06</td>\n",
       "    </tr>\n",
       "    <tr>\n",
       "      <th>2019-12-22</th>\n",
       "      <td>0.014941</td>\n",
       "      <td>0.000676</td>\n",
       "      <td>0.006905</td>\n",
       "      <td>0.835598</td>\n",
       "      <td>0.004956</td>\n",
       "      <td>0.000602</td>\n",
       "      <td>1.000000e-06</td>\n",
       "    </tr>\n",
       "    <tr>\n",
       "      <th>2019-12-23</th>\n",
       "      <td>0.011691</td>\n",
       "      <td>0.000662</td>\n",
       "      <td>0.006397</td>\n",
       "      <td>0.811020</td>\n",
       "      <td>0.005220</td>\n",
       "      <td>0.000597</td>\n",
       "      <td>1.000000e-06</td>\n",
       "    </tr>\n",
       "  </tbody>\n",
       "</table>\n",
       "</div>"
      ],
      "text/plain": [
       "            DOGEC-USD  GRLC-USD   LCC-USD  MONA-USD   POT-USD   RDD-USD   \n",
       "Date                                                                      \n",
       "2019-12-19   0.010818  0.000503  0.007144  0.769842  0.005842  0.000650  \\\n",
       "2019-12-20   0.011914  0.000505  0.007004  0.787640  0.005849  0.000651   \n",
       "2019-12-21   0.013660  0.000647  0.006968  0.803981  0.005248  0.000578   \n",
       "2019-12-22   0.014941  0.000676  0.006905  0.835598  0.004956  0.000602   \n",
       "2019-12-23   0.011691  0.000662  0.006397  0.811020  0.005220  0.000597   \n",
       "\n",
       "                TIPS-USD  \n",
       "Date                      \n",
       "2019-12-19  1.000000e-06  \n",
       "2019-12-20  1.000000e-06  \n",
       "2019-12-21  1.000000e-06  \n",
       "2019-12-22  1.000000e-06  \n",
       "2019-12-23  1.000000e-06  "
      ]
     },
     "execution_count": 4,
     "metadata": {},
     "output_type": "execute_result"
    }
   ],
   "source": [
    "#Load more stock data\n",
    "stocks = [\"RDD-USD\", \"MONA-USD\", \"TIPS-USD\", \"DOGEC-USD\", \"LCC-USD\",\n",
    "           \"GRLC-USD\", \"POT-USD\"]\n",
    "\n",
    "X = yf.download(tickers = stocks,\n",
    "                start = training_start,\n",
    "                end = end_stock,\n",
    "                interval = \"1d\").loc[:, ('Adj Close')]\n",
    "X.head()"
   ]
  },
  {
   "cell_type": "code",
   "execution_count": 5,
   "id": "880d2ebf-4f51-4d81-a637-c9744eb61e48",
   "metadata": {},
   "outputs": [
    {
     "name": "stdout",
     "output_type": "stream",
     "text": [
      "<class 'pandas.core.frame.DataFrame'>\n",
      "DatetimeIndex: 410 entries, 2019-12-19 to 2021-01-31\n",
      "Freq: D\n",
      "Data columns (total 7 columns):\n",
      " #   Column     Non-Null Count  Dtype  \n",
      "---  ------     --------------  -----  \n",
      " 0   DOGEC-USD  410 non-null    float64\n",
      " 1   GRLC-USD   410 non-null    float64\n",
      " 2   LCC-USD    410 non-null    float64\n",
      " 3   MONA-USD   410 non-null    float64\n",
      " 4   POT-USD    407 non-null    float64\n",
      " 5   RDD-USD    410 non-null    float64\n",
      " 6   TIPS-USD   410 non-null    float64\n",
      "dtypes: float64(7)\n",
      "memory usage: 25.6 KB\n"
     ]
    }
   ],
   "source": [
    "X.info()"
   ]
  },
  {
   "cell_type": "code",
   "execution_count": 6,
   "id": "e26f6bc7-f99b-4fb2-a103-e8cc458116b4",
   "metadata": {},
   "outputs": [
    {
     "data": {
      "text/html": [
       "<div>\n",
       "<style scoped>\n",
       "    .dataframe tbody tr th:only-of-type {\n",
       "        vertical-align: middle;\n",
       "    }\n",
       "\n",
       "    .dataframe tbody tr th {\n",
       "        vertical-align: top;\n",
       "    }\n",
       "\n",
       "    .dataframe thead th {\n",
       "        text-align: right;\n",
       "    }\n",
       "</style>\n",
       "<table border=\"1\" class=\"dataframe\">\n",
       "  <thead>\n",
       "    <tr style=\"text-align: right;\">\n",
       "      <th></th>\n",
       "      <th>DOGEC-USD</th>\n",
       "      <th>GRLC-USD</th>\n",
       "      <th>LCC-USD</th>\n",
       "      <th>MONA-USD</th>\n",
       "      <th>POT-USD</th>\n",
       "      <th>RDD-USD</th>\n",
       "      <th>TIPS-USD</th>\n",
       "    </tr>\n",
       "  </thead>\n",
       "  <tbody>\n",
       "    <tr>\n",
       "      <th>count</th>\n",
       "      <td>410.000000</td>\n",
       "      <td>410.000000</td>\n",
       "      <td>410.000000</td>\n",
       "      <td>410.000000</td>\n",
       "      <td>407.000000</td>\n",
       "      <td>410.000000</td>\n",
       "      <td>4.100000e+02</td>\n",
       "    </tr>\n",
       "    <tr>\n",
       "      <th>mean</th>\n",
       "      <td>0.012041</td>\n",
       "      <td>0.001548</td>\n",
       "      <td>0.004324</td>\n",
       "      <td>1.469262</td>\n",
       "      <td>0.008287</td>\n",
       "      <td>0.001081</td>\n",
       "      <td>1.078049e-06</td>\n",
       "    </tr>\n",
       "    <tr>\n",
       "      <th>std</th>\n",
       "      <td>0.007028</td>\n",
       "      <td>0.001315</td>\n",
       "      <td>0.001774</td>\n",
       "      <td>0.325609</td>\n",
       "      <td>0.002874</td>\n",
       "      <td>0.000418</td>\n",
       "      <td>2.775303e-07</td>\n",
       "    </tr>\n",
       "    <tr>\n",
       "      <th>min</th>\n",
       "      <td>0.002566</td>\n",
       "      <td>0.000088</td>\n",
       "      <td>0.001824</td>\n",
       "      <td>0.753080</td>\n",
       "      <td>0.004027</td>\n",
       "      <td>0.000470</td>\n",
       "      <td>1.000000e-06</td>\n",
       "    </tr>\n",
       "    <tr>\n",
       "      <th>25%</th>\n",
       "      <td>0.007706</td>\n",
       "      <td>0.000460</td>\n",
       "      <td>0.003341</td>\n",
       "      <td>1.245884</td>\n",
       "      <td>0.006284</td>\n",
       "      <td>0.000852</td>\n",
       "      <td>1.000000e-06</td>\n",
       "    </tr>\n",
       "    <tr>\n",
       "      <th>50%</th>\n",
       "      <td>0.009626</td>\n",
       "      <td>0.001315</td>\n",
       "      <td>0.003914</td>\n",
       "      <td>1.406287</td>\n",
       "      <td>0.007882</td>\n",
       "      <td>0.001038</td>\n",
       "      <td>1.000000e-06</td>\n",
       "    </tr>\n",
       "    <tr>\n",
       "      <th>75%</th>\n",
       "      <td>0.014875</td>\n",
       "      <td>0.002404</td>\n",
       "      <td>0.005119</td>\n",
       "      <td>1.710849</td>\n",
       "      <td>0.008800</td>\n",
       "      <td>0.001254</td>\n",
       "      <td>1.000000e-06</td>\n",
       "    </tr>\n",
       "    <tr>\n",
       "      <th>max</th>\n",
       "      <td>0.038360</td>\n",
       "      <td>0.008687</td>\n",
       "      <td>0.012383</td>\n",
       "      <td>2.693467</td>\n",
       "      <td>0.022703</td>\n",
       "      <td>0.005293</td>\n",
       "      <td>3.000000e-06</td>\n",
       "    </tr>\n",
       "  </tbody>\n",
       "</table>\n",
       "</div>"
      ],
      "text/plain": [
       "        DOGEC-USD    GRLC-USD     LCC-USD    MONA-USD     POT-USD     RDD-USD   \n",
       "count  410.000000  410.000000  410.000000  410.000000  407.000000  410.000000  \\\n",
       "mean     0.012041    0.001548    0.004324    1.469262    0.008287    0.001081   \n",
       "std      0.007028    0.001315    0.001774    0.325609    0.002874    0.000418   \n",
       "min      0.002566    0.000088    0.001824    0.753080    0.004027    0.000470   \n",
       "25%      0.007706    0.000460    0.003341    1.245884    0.006284    0.000852   \n",
       "50%      0.009626    0.001315    0.003914    1.406287    0.007882    0.001038   \n",
       "75%      0.014875    0.002404    0.005119    1.710849    0.008800    0.001254   \n",
       "max      0.038360    0.008687    0.012383    2.693467    0.022703    0.005293   \n",
       "\n",
       "           TIPS-USD  \n",
       "count  4.100000e+02  \n",
       "mean   1.078049e-06  \n",
       "std    2.775303e-07  \n",
       "min    1.000000e-06  \n",
       "25%    1.000000e-06  \n",
       "50%    1.000000e-06  \n",
       "75%    1.000000e-06  \n",
       "max    3.000000e-06  "
      ]
     },
     "execution_count": 6,
     "metadata": {},
     "output_type": "execute_result"
    }
   ],
   "source": [
    "X.describe()"
   ]
  },
  {
   "cell_type": "code",
   "execution_count": 7,
   "id": "7dd4af58-9916-4b4b-852c-d3b84272c39e",
   "metadata": {},
   "outputs": [
    {
     "data": {
      "text/plain": [
       "DatetimeIndex(['2019-12-19', '2019-12-20', '2019-12-21', '2019-12-22',\n",
       "               '2019-12-23', '2019-12-24', '2019-12-25', '2019-12-26',\n",
       "               '2019-12-27', '2019-12-28',\n",
       "               ...\n",
       "               '2021-01-22', '2021-01-23', '2021-01-24', '2021-01-25',\n",
       "               '2021-01-26', '2021-01-27', '2021-01-28', '2021-01-29',\n",
       "               '2021-01-30', '2021-01-31'],\n",
       "              dtype='datetime64[ns]', name='Date', length=410, freq='D')"
      ]
     },
     "execution_count": 7,
     "metadata": {},
     "output_type": "execute_result"
    }
   ],
   "source": [
    "X.index = X.index.tz_localize(None)\n",
    "X.index"
   ]
  },
  {
   "cell_type": "code",
   "execution_count": 8,
   "id": "3536297a-fd65-4019-818e-eb657188263b",
   "metadata": {},
   "outputs": [],
   "source": [
    "y.index = y.index.tz_localize(None)"
   ]
  },
  {
   "cell_type": "markdown",
   "id": "84ea60f2-9dfb-46c1-a471-4f294b408375",
   "metadata": {},
   "source": [
    "## Making the df"
   ]
  },
  {
   "cell_type": "code",
   "execution_count": 9,
   "id": "e62fc9e3-2332-4540-97c5-348b2085862d",
   "metadata": {},
   "outputs": [
    {
     "data": {
      "text/html": [
       "<div>\n",
       "<style scoped>\n",
       "    .dataframe tbody tr th:only-of-type {\n",
       "        vertical-align: middle;\n",
       "    }\n",
       "\n",
       "    .dataframe tbody tr th {\n",
       "        vertical-align: top;\n",
       "    }\n",
       "\n",
       "    .dataframe thead th {\n",
       "        text-align: right;\n",
       "    }\n",
       "</style>\n",
       "<table border=\"1\" class=\"dataframe\">\n",
       "  <thead>\n",
       "    <tr style=\"text-align: right;\">\n",
       "      <th></th>\n",
       "      <th>y</th>\n",
       "      <th>DOGEC-USD</th>\n",
       "      <th>GRLC-USD</th>\n",
       "      <th>LCC-USD</th>\n",
       "      <th>MONA-USD</th>\n",
       "      <th>POT-USD</th>\n",
       "      <th>RDD-USD</th>\n",
       "      <th>TIPS-USD</th>\n",
       "    </tr>\n",
       "    <tr>\n",
       "      <th>Date</th>\n",
       "      <th></th>\n",
       "      <th></th>\n",
       "      <th></th>\n",
       "      <th></th>\n",
       "      <th></th>\n",
       "      <th></th>\n",
       "      <th></th>\n",
       "      <th></th>\n",
       "    </tr>\n",
       "  </thead>\n",
       "  <tbody>\n",
       "    <tr>\n",
       "      <th>2019-12-19</th>\n",
       "      <td>0.002123</td>\n",
       "      <td>0.010818</td>\n",
       "      <td>0.000503</td>\n",
       "      <td>0.007144</td>\n",
       "      <td>0.769842</td>\n",
       "      <td>0.005842</td>\n",
       "      <td>0.000650</td>\n",
       "      <td>1.000000e-06</td>\n",
       "    </tr>\n",
       "    <tr>\n",
       "      <th>2019-12-20</th>\n",
       "      <td>0.002075</td>\n",
       "      <td>0.011914</td>\n",
       "      <td>0.000505</td>\n",
       "      <td>0.007004</td>\n",
       "      <td>0.787640</td>\n",
       "      <td>0.005849</td>\n",
       "      <td>0.000651</td>\n",
       "      <td>1.000000e-06</td>\n",
       "    </tr>\n",
       "    <tr>\n",
       "      <th>2019-12-21</th>\n",
       "      <td>0.002084</td>\n",
       "      <td>0.013660</td>\n",
       "      <td>0.000647</td>\n",
       "      <td>0.006968</td>\n",
       "      <td>0.803981</td>\n",
       "      <td>0.005248</td>\n",
       "      <td>0.000578</td>\n",
       "      <td>1.000000e-06</td>\n",
       "    </tr>\n",
       "    <tr>\n",
       "      <th>2019-12-22</th>\n",
       "      <td>0.002115</td>\n",
       "      <td>0.014941</td>\n",
       "      <td>0.000676</td>\n",
       "      <td>0.006905</td>\n",
       "      <td>0.835598</td>\n",
       "      <td>0.004956</td>\n",
       "      <td>0.000602</td>\n",
       "      <td>1.000000e-06</td>\n",
       "    </tr>\n",
       "    <tr>\n",
       "      <th>2019-12-23</th>\n",
       "      <td>0.002073</td>\n",
       "      <td>0.011691</td>\n",
       "      <td>0.000662</td>\n",
       "      <td>0.006397</td>\n",
       "      <td>0.811020</td>\n",
       "      <td>0.005220</td>\n",
       "      <td>0.000597</td>\n",
       "      <td>1.000000e-06</td>\n",
       "    </tr>\n",
       "  </tbody>\n",
       "</table>\n",
       "</div>"
      ],
      "text/plain": [
       "                   y  DOGEC-USD  GRLC-USD   LCC-USD  MONA-USD   POT-USD   \n",
       "Date                                                                      \n",
       "2019-12-19  0.002123   0.010818  0.000503  0.007144  0.769842  0.005842  \\\n",
       "2019-12-20  0.002075   0.011914  0.000505  0.007004  0.787640  0.005849   \n",
       "2019-12-21  0.002084   0.013660  0.000647  0.006968  0.803981  0.005248   \n",
       "2019-12-22  0.002115   0.014941  0.000676  0.006905  0.835598  0.004956   \n",
       "2019-12-23  0.002073   0.011691  0.000662  0.006397  0.811020  0.005220   \n",
       "\n",
       "             RDD-USD      TIPS-USD  \n",
       "Date                                \n",
       "2019-12-19  0.000650  1.000000e-06  \n",
       "2019-12-20  0.000651  1.000000e-06  \n",
       "2019-12-21  0.000578  1.000000e-06  \n",
       "2019-12-22  0.000602  1.000000e-06  \n",
       "2019-12-23  0.000597  1.000000e-06  "
      ]
     },
     "execution_count": 9,
     "metadata": {},
     "output_type": "execute_result"
    }
   ],
   "source": [
    "df = pd.concat([y,X], axis = 1).dropna()\n",
    "df.head()"
   ]
  },
  {
   "cell_type": "code",
   "execution_count": 10,
   "id": "b778658e-f006-48b7-ba5a-e0ea3e6bb1f5",
   "metadata": {},
   "outputs": [
    {
     "data": {
      "text/html": [
       "<div>\n",
       "<style scoped>\n",
       "    .dataframe tbody tr th:only-of-type {\n",
       "        vertical-align: middle;\n",
       "    }\n",
       "\n",
       "    .dataframe tbody tr th {\n",
       "        vertical-align: top;\n",
       "    }\n",
       "\n",
       "    .dataframe thead th {\n",
       "        text-align: right;\n",
       "    }\n",
       "</style>\n",
       "<table border=\"1\" class=\"dataframe\">\n",
       "  <thead>\n",
       "    <tr style=\"text-align: right;\">\n",
       "      <th></th>\n",
       "      <th>y</th>\n",
       "      <th>DOGEC-USD</th>\n",
       "      <th>GRLC-USD</th>\n",
       "      <th>LCC-USD</th>\n",
       "      <th>MONA-USD</th>\n",
       "      <th>POT-USD</th>\n",
       "      <th>RDD-USD</th>\n",
       "      <th>TIPS-USD</th>\n",
       "    </tr>\n",
       "    <tr>\n",
       "      <th>Date</th>\n",
       "      <th></th>\n",
       "      <th></th>\n",
       "      <th></th>\n",
       "      <th></th>\n",
       "      <th></th>\n",
       "      <th></th>\n",
       "      <th></th>\n",
       "      <th></th>\n",
       "    </tr>\n",
       "  </thead>\n",
       "  <tbody>\n",
       "    <tr>\n",
       "      <th>2019-12-19</th>\n",
       "      <td>0.002123</td>\n",
       "      <td>0.010818</td>\n",
       "      <td>0.000503</td>\n",
       "      <td>0.007144</td>\n",
       "      <td>0.769842</td>\n",
       "      <td>0.005842</td>\n",
       "      <td>0.000650</td>\n",
       "      <td>1.000000e-06</td>\n",
       "    </tr>\n",
       "    <tr>\n",
       "      <th>2019-12-20</th>\n",
       "      <td>0.002075</td>\n",
       "      <td>0.011914</td>\n",
       "      <td>0.000505</td>\n",
       "      <td>0.007004</td>\n",
       "      <td>0.787640</td>\n",
       "      <td>0.005849</td>\n",
       "      <td>0.000651</td>\n",
       "      <td>1.000000e-06</td>\n",
       "    </tr>\n",
       "    <tr>\n",
       "      <th>2019-12-21</th>\n",
       "      <td>0.002084</td>\n",
       "      <td>0.013660</td>\n",
       "      <td>0.000647</td>\n",
       "      <td>0.006968</td>\n",
       "      <td>0.803981</td>\n",
       "      <td>0.005248</td>\n",
       "      <td>0.000578</td>\n",
       "      <td>1.000000e-06</td>\n",
       "    </tr>\n",
       "    <tr>\n",
       "      <th>2019-12-22</th>\n",
       "      <td>0.002115</td>\n",
       "      <td>0.014941</td>\n",
       "      <td>0.000676</td>\n",
       "      <td>0.006905</td>\n",
       "      <td>0.835598</td>\n",
       "      <td>0.004956</td>\n",
       "      <td>0.000602</td>\n",
       "      <td>1.000000e-06</td>\n",
       "    </tr>\n",
       "    <tr>\n",
       "      <th>2019-12-23</th>\n",
       "      <td>0.002073</td>\n",
       "      <td>0.011691</td>\n",
       "      <td>0.000662</td>\n",
       "      <td>0.006397</td>\n",
       "      <td>0.811020</td>\n",
       "      <td>0.005220</td>\n",
       "      <td>0.000597</td>\n",
       "      <td>1.000000e-06</td>\n",
       "    </tr>\n",
       "    <tr>\n",
       "      <th>...</th>\n",
       "      <td>...</td>\n",
       "      <td>...</td>\n",
       "      <td>...</td>\n",
       "      <td>...</td>\n",
       "      <td>...</td>\n",
       "      <td>...</td>\n",
       "      <td>...</td>\n",
       "      <td>...</td>\n",
       "    </tr>\n",
       "    <tr>\n",
       "      <th>2020-12-15</th>\n",
       "      <td>0.003206</td>\n",
       "      <td>0.007582</td>\n",
       "      <td>0.003276</td>\n",
       "      <td>0.002397</td>\n",
       "      <td>1.382280</td>\n",
       "      <td>0.006409</td>\n",
       "      <td>0.001039</td>\n",
       "      <td>1.000000e-06</td>\n",
       "    </tr>\n",
       "    <tr>\n",
       "      <th>2020-12-16</th>\n",
       "      <td>0.003416</td>\n",
       "      <td>0.008105</td>\n",
       "      <td>0.003629</td>\n",
       "      <td>0.002545</td>\n",
       "      <td>1.442342</td>\n",
       "      <td>0.007245</td>\n",
       "      <td>0.001109</td>\n",
       "      <td>1.000000e-06</td>\n",
       "    </tr>\n",
       "    <tr>\n",
       "      <th>2020-12-17</th>\n",
       "      <td>0.003730</td>\n",
       "      <td>0.009341</td>\n",
       "      <td>0.005478</td>\n",
       "      <td>0.002739</td>\n",
       "      <td>1.491895</td>\n",
       "      <td>0.008670</td>\n",
       "      <td>0.001141</td>\n",
       "      <td>1.000000e-06</td>\n",
       "    </tr>\n",
       "    <tr>\n",
       "      <th>2020-12-18</th>\n",
       "      <td>0.003858</td>\n",
       "      <td>0.009716</td>\n",
       "      <td>0.003240</td>\n",
       "      <td>0.002751</td>\n",
       "      <td>1.516769</td>\n",
       "      <td>0.007635</td>\n",
       "      <td>0.001156</td>\n",
       "      <td>1.000000e-06</td>\n",
       "    </tr>\n",
       "    <tr>\n",
       "      <th>2020-12-19</th>\n",
       "      <td>0.003927</td>\n",
       "      <td>0.010027</td>\n",
       "      <td>0.005846</td>\n",
       "      <td>0.002847</td>\n",
       "      <td>1.511973</td>\n",
       "      <td>0.008354</td>\n",
       "      <td>0.001170</td>\n",
       "      <td>1.000000e-06</td>\n",
       "    </tr>\n",
       "  </tbody>\n",
       "</table>\n",
       "<p>364 rows × 8 columns</p>\n",
       "</div>"
      ],
      "text/plain": [
       "                   y  DOGEC-USD  GRLC-USD   LCC-USD  MONA-USD   POT-USD   \n",
       "Date                                                                      \n",
       "2019-12-19  0.002123   0.010818  0.000503  0.007144  0.769842  0.005842  \\\n",
       "2019-12-20  0.002075   0.011914  0.000505  0.007004  0.787640  0.005849   \n",
       "2019-12-21  0.002084   0.013660  0.000647  0.006968  0.803981  0.005248   \n",
       "2019-12-22  0.002115   0.014941  0.000676  0.006905  0.835598  0.004956   \n",
       "2019-12-23  0.002073   0.011691  0.000662  0.006397  0.811020  0.005220   \n",
       "...              ...        ...       ...       ...       ...       ...   \n",
       "2020-12-15  0.003206   0.007582  0.003276  0.002397  1.382280  0.006409   \n",
       "2020-12-16  0.003416   0.008105  0.003629  0.002545  1.442342  0.007245   \n",
       "2020-12-17  0.003730   0.009341  0.005478  0.002739  1.491895  0.008670   \n",
       "2020-12-18  0.003858   0.009716  0.003240  0.002751  1.516769  0.007635   \n",
       "2020-12-19  0.003927   0.010027  0.005846  0.002847  1.511973  0.008354   \n",
       "\n",
       "             RDD-USD      TIPS-USD  \n",
       "Date                                \n",
       "2019-12-19  0.000650  1.000000e-06  \n",
       "2019-12-20  0.000651  1.000000e-06  \n",
       "2019-12-21  0.000578  1.000000e-06  \n",
       "2019-12-22  0.000602  1.000000e-06  \n",
       "2019-12-23  0.000597  1.000000e-06  \n",
       "...              ...           ...  \n",
       "2020-12-15  0.001039  1.000000e-06  \n",
       "2020-12-16  0.001109  1.000000e-06  \n",
       "2020-12-17  0.001141  1.000000e-06  \n",
       "2020-12-18  0.001156  1.000000e-06  \n",
       "2020-12-19  0.001170  1.000000e-06  \n",
       "\n",
       "[364 rows x 8 columns]"
      ]
     },
     "execution_count": 10,
     "metadata": {},
     "output_type": "execute_result"
    }
   ],
   "source": [
    "df_training = df.loc[(df.index <= training_end), :]\n",
    "df_training"
   ]
  },
  {
   "cell_type": "markdown",
   "id": "c17c046c-ae99-4a37-8496-a0d32582de1c",
   "metadata": {
    "tags": []
   },
   "source": [
    "# Checking Quality of Data"
   ]
  },
  {
   "cell_type": "markdown",
   "id": "ba7f4b08-4343-447d-afd5-e945b1f56aad",
   "metadata": {},
   "source": [
    "## Checking Stationarity"
   ]
  },
  {
   "cell_type": "code",
   "execution_count": 11,
   "id": "3662ed9d-176f-4d7c-9ac2-cd0e7d9d74b8",
   "metadata": {},
   "outputs": [
    {
     "name": "stdout",
     "output_type": "stream",
     "text": [
      "The Time Series is not stationary\n"
     ]
    }
   ],
   "source": [
    "#Stationarity\n",
    "from statsmodels.tsa.stattools import adfuller\n",
    "test = adfuller(x = df_training.y)[1]\n",
    "\n",
    "#how to read - ifelse\n",
    "if test < 0.05:\n",
    "  print(\"The Time Series is stationary\")\n",
    "else:\n",
    "  print(\"The Time Series is not stationary\")"
   ]
  },
  {
   "cell_type": "markdown",
   "id": "79efb18d-9ea0-44ac-aab8-8722476bc201",
   "metadata": {},
   "source": [
    "We have to make this data stationary."
   ]
  },
  {
   "cell_type": "markdown",
   "id": "df671487-bd8b-431f-9256-67c4db264c79",
   "metadata": {},
   "source": [
    "### Differencing"
   ]
  },
  {
   "cell_type": "code",
   "execution_count": 12,
   "id": "5bcbb787-09ee-4459-af33-399a9f184dc5",
   "metadata": {},
   "outputs": [
    {
     "data": {
      "text/html": [
       "<div>\n",
       "<style scoped>\n",
       "    .dataframe tbody tr th:only-of-type {\n",
       "        vertical-align: middle;\n",
       "    }\n",
       "\n",
       "    .dataframe tbody tr th {\n",
       "        vertical-align: top;\n",
       "    }\n",
       "\n",
       "    .dataframe thead th {\n",
       "        text-align: right;\n",
       "    }\n",
       "</style>\n",
       "<table border=\"1\" class=\"dataframe\">\n",
       "  <thead>\n",
       "    <tr style=\"text-align: right;\">\n",
       "      <th></th>\n",
       "      <th>y</th>\n",
       "      <th>DOGEC-USD</th>\n",
       "      <th>GRLC-USD</th>\n",
       "      <th>LCC-USD</th>\n",
       "      <th>MONA-USD</th>\n",
       "      <th>POT-USD</th>\n",
       "      <th>RDD-USD</th>\n",
       "      <th>TIPS-USD</th>\n",
       "    </tr>\n",
       "    <tr>\n",
       "      <th>Date</th>\n",
       "      <th></th>\n",
       "      <th></th>\n",
       "      <th></th>\n",
       "      <th></th>\n",
       "      <th></th>\n",
       "      <th></th>\n",
       "      <th></th>\n",
       "      <th></th>\n",
       "    </tr>\n",
       "  </thead>\n",
       "  <tbody>\n",
       "    <tr>\n",
       "      <th>2019-12-20</th>\n",
       "      <td>-0.022610</td>\n",
       "      <td>0.101313</td>\n",
       "      <td>0.003976</td>\n",
       "      <td>-0.019597</td>\n",
       "      <td>0.023119</td>\n",
       "      <td>0.001198</td>\n",
       "      <td>0.001538</td>\n",
       "      <td>0.0</td>\n",
       "    </tr>\n",
       "    <tr>\n",
       "      <th>2019-12-21</th>\n",
       "      <td>0.004337</td>\n",
       "      <td>0.146550</td>\n",
       "      <td>0.281188</td>\n",
       "      <td>-0.005140</td>\n",
       "      <td>0.020747</td>\n",
       "      <td>-0.102753</td>\n",
       "      <td>-0.112135</td>\n",
       "      <td>0.0</td>\n",
       "    </tr>\n",
       "  </tbody>\n",
       "</table>\n",
       "</div>"
      ],
      "text/plain": [
       "                   y  DOGEC-USD  GRLC-USD   LCC-USD  MONA-USD   POT-USD   \n",
       "Date                                                                      \n",
       "2019-12-20 -0.022610   0.101313  0.003976 -0.019597  0.023119  0.001198  \\\n",
       "2019-12-21  0.004337   0.146550  0.281188 -0.005140  0.020747 -0.102753   \n",
       "\n",
       "             RDD-USD  TIPS-USD  \n",
       "Date                            \n",
       "2019-12-20  0.001538       0.0  \n",
       "2019-12-21 -0.112135       0.0  "
      ]
     },
     "execution_count": 12,
     "metadata": {},
     "output_type": "execute_result"
    }
   ],
   "source": [
    "differencing = df_training.pct_change().dropna()\n",
    "differencing.head(2)"
   ]
  },
  {
   "cell_type": "code",
   "execution_count": 13,
   "id": "7504507d-ad8d-43ed-ab43-9080666b3528",
   "metadata": {},
   "outputs": [
    {
     "name": "stdout",
     "output_type": "stream",
     "text": [
      "The Time Series is stationary\n"
     ]
    }
   ],
   "source": [
    "#Stationarity\n",
    "from statsmodels.tsa.stattools import adfuller\n",
    "test = adfuller(x = differencing.y)[1]\n",
    "\n",
    "#how to read - ifelse\n",
    "if test < 0.05:\n",
    "  print(\"The Time Series is stationary\")\n",
    "else:\n",
    "  print(\"The Time Series is not stationary\")"
   ]
  },
  {
   "cell_type": "markdown",
   "id": "4b61de13-c863-4eb3-acd1-241acfbb36a3",
   "metadata": {},
   "source": [
    "## Checking correlations"
   ]
  },
  {
   "cell_type": "code",
   "execution_count": 14,
   "id": "3b8c404c-c414-4be4-95ac-0244307b5b26",
   "metadata": {},
   "outputs": [
    {
     "data": {
      "image/png": "[encoded data removed]",
      "text/plain": [
       "<Figure size 800x600 with 2 Axes>"
      ]
     },
     "metadata": {},
     "output_type": "display_data"
    }
   ],
   "source": [
    "#Correlation Matrix\n",
    "plt.figure(figsize = (8,6))\n",
    "sns.set(font_scale = 1.2)\n",
    "sns.heatmap(differencing.corr(),\n",
    "            annot = True,\n",
    "            fmt = '.1g',\n",
    "            cmap = 'YlOrBr',\n",
    "            center =  True,\n",
    "            linewidth = 1,\n",
    "            linecolor = 'black')\n",
    "plt.show()"
   ]
  },
  {
   "cell_type": "markdown",
   "id": "a98221db-c8d6-41bc-9f2d-bfddb22c1e55",
   "metadata": {},
   "source": [
    "### Dropping variables with low correlations with the label"
   ]
  },
  {
   "cell_type": "code",
   "execution_count": 15,
   "id": "ceb91f26-3b37-409c-8170-7ef4754dde8a",
   "metadata": {},
   "outputs": [
    {
     "data": {
      "text/html": [
       "<div>\n",
       "<style scoped>\n",
       "    .dataframe tbody tr th:only-of-type {\n",
       "        vertical-align: middle;\n",
       "    }\n",
       "\n",
       "    .dataframe tbody tr th {\n",
       "        vertical-align: top;\n",
       "    }\n",
       "\n",
       "    .dataframe thead th {\n",
       "        text-align: right;\n",
       "    }\n",
       "</style>\n",
       "<table border=\"1\" class=\"dataframe\">\n",
       "  <thead>\n",
       "    <tr style=\"text-align: right;\">\n",
       "      <th></th>\n",
       "      <th>y</th>\n",
       "      <th>LCC-USD</th>\n",
       "      <th>MONA-USD</th>\n",
       "      <th>POT-USD</th>\n",
       "    </tr>\n",
       "    <tr>\n",
       "      <th>Date</th>\n",
       "      <th></th>\n",
       "      <th></th>\n",
       "      <th></th>\n",
       "      <th></th>\n",
       "    </tr>\n",
       "  </thead>\n",
       "  <tbody>\n",
       "    <tr>\n",
       "      <th>2019-12-19</th>\n",
       "      <td>0.002123</td>\n",
       "      <td>0.007144</td>\n",
       "      <td>0.769842</td>\n",
       "      <td>0.005842</td>\n",
       "    </tr>\n",
       "    <tr>\n",
       "      <th>2019-12-20</th>\n",
       "      <td>0.002075</td>\n",
       "      <td>0.007004</td>\n",
       "      <td>0.787640</td>\n",
       "      <td>0.005849</td>\n",
       "    </tr>\n",
       "    <tr>\n",
       "      <th>2019-12-21</th>\n",
       "      <td>0.002084</td>\n",
       "      <td>0.006968</td>\n",
       "      <td>0.803981</td>\n",
       "      <td>0.005248</td>\n",
       "    </tr>\n",
       "    <tr>\n",
       "      <th>2019-12-22</th>\n",
       "      <td>0.002115</td>\n",
       "      <td>0.006905</td>\n",
       "      <td>0.835598</td>\n",
       "      <td>0.004956</td>\n",
       "    </tr>\n",
       "    <tr>\n",
       "      <th>2019-12-23</th>\n",
       "      <td>0.002073</td>\n",
       "      <td>0.006397</td>\n",
       "      <td>0.811020</td>\n",
       "      <td>0.005220</td>\n",
       "    </tr>\n",
       "    <tr>\n",
       "      <th>...</th>\n",
       "      <td>...</td>\n",
       "      <td>...</td>\n",
       "      <td>...</td>\n",
       "      <td>...</td>\n",
       "    </tr>\n",
       "    <tr>\n",
       "      <th>2021-01-27</th>\n",
       "      <td>0.007482</td>\n",
       "      <td>0.004563</td>\n",
       "      <td>1.510407</td>\n",
       "      <td>0.011690</td>\n",
       "    </tr>\n",
       "    <tr>\n",
       "      <th>2021-01-28</th>\n",
       "      <td>0.034084</td>\n",
       "      <td>0.005030</td>\n",
       "      <td>1.568909</td>\n",
       "      <td>0.013020</td>\n",
       "    </tr>\n",
       "    <tr>\n",
       "      <th>2021-01-29</th>\n",
       "      <td>0.047162</td>\n",
       "      <td>0.005315</td>\n",
       "      <td>1.615260</td>\n",
       "      <td>0.016509</td>\n",
       "    </tr>\n",
       "    <tr>\n",
       "      <th>2021-01-30</th>\n",
       "      <td>0.028176</td>\n",
       "      <td>0.005731</td>\n",
       "      <td>1.623476</td>\n",
       "      <td>0.015263</td>\n",
       "    </tr>\n",
       "    <tr>\n",
       "      <th>2021-01-31</th>\n",
       "      <td>0.037196</td>\n",
       "      <td>0.004882</td>\n",
       "      <td>1.561187</td>\n",
       "      <td>0.016308</td>\n",
       "    </tr>\n",
       "  </tbody>\n",
       "</table>\n",
       "<p>407 rows × 4 columns</p>\n",
       "</div>"
      ],
      "text/plain": [
       "                   y   LCC-USD  MONA-USD   POT-USD\n",
       "Date                                              \n",
       "2019-12-19  0.002123  0.007144  0.769842  0.005842\n",
       "2019-12-20  0.002075  0.007004  0.787640  0.005849\n",
       "2019-12-21  0.002084  0.006968  0.803981  0.005248\n",
       "2019-12-22  0.002115  0.006905  0.835598  0.004956\n",
       "2019-12-23  0.002073  0.006397  0.811020  0.005220\n",
       "...              ...       ...       ...       ...\n",
       "2021-01-27  0.007482  0.004563  1.510407  0.011690\n",
       "2021-01-28  0.034084  0.005030  1.568909  0.013020\n",
       "2021-01-29  0.047162  0.005315  1.615260  0.016509\n",
       "2021-01-30  0.028176  0.005731  1.623476  0.015263\n",
       "2021-01-31  0.037196  0.004882  1.561187  0.016308\n",
       "\n",
       "[407 rows x 4 columns]"
      ]
     },
     "execution_count": 15,
     "metadata": {},
     "output_type": "execute_result"
    }
   ],
   "source": [
    "df_final = df.drop(columns = ['TIPS-USD', 'RDD-USD', 'GRLC-USD', 'DOGEC-USD'])\n",
    "df_final"
   ]
  },
  {
   "cell_type": "markdown",
   "id": "14297c31-1299-4988-bd8c-498e787da215",
   "metadata": {},
   "source": [
    "## Building a regularly spaced series"
   ]
  },
  {
   "cell_type": "code",
   "execution_count": 16,
   "id": "56a90f03-b8fc-4029-a63f-b8b50ed5d48b",
   "metadata": {},
   "outputs": [],
   "source": [
    "from tensorflow_probability.python.sts import regularize_series\n",
    "df_final_regular = regularize_series(df_final)"
   ]
  },
  {
   "cell_type": "code",
   "execution_count": 17,
   "id": "5b26cffc-5f18-407c-be90-96ff6033e973",
   "metadata": {},
   "outputs": [
    {
     "name": "stdout",
     "output_type": "stream",
     "text": [
      "<class 'pandas.core.frame.DataFrame'>\n",
      "DatetimeIndex: 410 entries, 2019-12-19 to 2021-01-31\n",
      "Freq: <DateOffset: days=1>\n",
      "Data columns (total 4 columns):\n",
      " #   Column    Non-Null Count  Dtype  \n",
      "---  ------    --------------  -----  \n",
      " 0   y         407 non-null    float64\n",
      " 1   LCC-USD   407 non-null    float64\n",
      " 2   MONA-USD  407 non-null    float64\n",
      " 3   POT-USD   407 non-null    float64\n",
      "dtypes: float64(4)\n",
      "memory usage: 16.0 KB\n"
     ]
    }
   ],
   "source": [
    "df_final_regular.info()"
   ]
  },
  {
   "cell_type": "markdown",
   "id": "a377b7ce-5b5e-4c42-9932-b7c144831977",
   "metadata": {},
   "source": [
    "### Filling missing values with interopolation"
   ]
  },
  {
   "cell_type": "code",
   "execution_count": 18,
   "id": "6bc182f8-f08c-40ee-90f6-2f20e1b2ecc1",
   "metadata": {},
   "outputs": [],
   "source": [
    "df_final_regular.interpolate(method='linear', axis=0, inplace = True)"
   ]
  },
  {
   "cell_type": "markdown",
   "id": "1e76c2c0-6a0b-487a-b820-601838dd5161",
   "metadata": {
    "tags": []
   },
   "source": [
    "# Causal Impact"
   ]
  },
  {
   "cell_type": "code",
   "execution_count": 19,
   "id": "7acacc1b-2694-4b4c-a371-58038c3149fa",
   "metadata": {},
   "outputs": [
    {
     "data": {
      "text/plain": [
       "(['2019-12-19', '2020-12-19'], ['2020-12-20', '2021-01-31'])"
      ]
     },
     "execution_count": 19,
     "metadata": {},
     "output_type": "execute_result"
    }
   ],
   "source": [
    "#Pre and post period\n",
    "pre_period = [training_start, training_end]\n",
    "post_period = [treatment_start, treatment_end]\n",
    "pre_period, post_period"
   ]
  },
  {
   "cell_type": "markdown",
   "id": "33d8b3c9-c72d-4b78-9c25-aa282583f3e8",
   "metadata": {},
   "source": [
    "## Training the model"
   ]
  },
  {
   "cell_type": "code",
   "execution_count": 20,
   "id": "f4a28a8a-96c4-4987-a86b-a6209de21730",
   "metadata": {
    "collapsed": true,
    "jupyter": {
     "outputs_hidden": true
    },
    "tags": []
   },
   "outputs": [
    {
     "name": "stdout",
     "output_type": "stream",
     "text": [
      "WARNING:tensorflow:From /home/studio-lab-user/.conda/envs/tweeteffect/lib/python3.11/site-packages/tensorflow_probability/python/internal/batched_rejection_sampler.py:102: calling while_loop_v2 (from tensorflow.python.ops.control_flow_ops) with back_prop=False is deprecated and will be removed in a future version.\n",
      "Instructions for updating:\n",
      "back_prop=False is deprecated. Consider using tf.stop_gradient instead.\n",
      "Instead of:\n",
      "results = tf.while_loop(c, b, vars, back_prop=False)\n",
      "Use:\n",
      "results = tf.nest.map_structure(tf.stop_gradient, tf.while_loop(c, b, vars))\n"
     ]
    },
    {
     "name": "stderr",
     "output_type": "stream",
     "text": [
      "2023-04-29 08:38:47.983911: I tensorflow/core/common_runtime/executor.cc:1197] [/device:CPU:0] (DEBUG INFO) Executor start aborting (this does not indicate an error and you can ignore this message): INVALID_ARGUMENT: You must feed a value for placeholder tensor 'shape' with dtype int32 and shape [1]\n",
      "\t [[{{node shape}}]]\n",
      "2023-04-29 08:38:47.984029: I tensorflow/core/common_runtime/executor.cc:1197] [/device:CPU:0] (DEBUG INFO) Executor start aborting (this does not indicate an error and you can ignore this message): INVALID_ARGUMENT: You must feed a value for placeholder tensor 'shape' with dtype int32 and shape [1]\n",
      "\t [[{{node shape}}]]\n",
      "2023-04-29 08:38:47.996309: I tensorflow/core/common_runtime/executor.cc:1197] [/device:CPU:0] (DEBUG INFO) Executor start aborting (this does not indicate an error and you can ignore this message): INVALID_ARGUMENT: You must feed a value for placeholder tensor 'shape' with dtype int32 and shape [1]\n",
      "\t [[{{node shape}}]]\n",
      "2023-04-29 08:38:47.996422: I tensorflow/core/common_runtime/executor.cc:1197] [/device:CPU:0] (DEBUG INFO) Executor start aborting (this does not indicate an error and you can ignore this message): INVALID_ARGUMENT: You must feed a value for placeholder tensor 'shape' with dtype int32 and shape [1]\n",
      "\t [[{{node shape}}]]\n",
      "2023-04-29 08:38:48.028020: I tensorflow/core/common_runtime/executor.cc:1197] [/device:CPU:0] (DEBUG INFO) Executor start aborting (this does not indicate an error and you can ignore this message): INVALID_ARGUMENT: You must feed a value for placeholder tensor 'batched_las_vegas_algorithm/while/normal/stateless_random_normal/StatelessRandomNormalV2/shape' with dtype int32 and shape [1]\n",
      "\t [[{{node batched_las_vegas_algorithm/while/normal/stateless_random_normal/StatelessRandomNormalV2/shape}}]]\n",
      "2023-04-29 08:38:48.028139: I tensorflow/core/common_runtime/executor.cc:1197] [/device:CPU:0] (DEBUG INFO) Executor start aborting (this does not indicate an error and you can ignore this message): INVALID_ARGUMENT: You must feed a value for placeholder tensor 'batched_las_vegas_algorithm/while/normal/stateless_random_normal/StatelessRandomNormalV2/shape' with dtype int32 and shape [1]\n",
      "\t [[{{node batched_las_vegas_algorithm/while/normal/stateless_random_normal/StatelessRandomNormalV2/shape}}]]\n",
      "2023-04-29 08:38:48.037529: I tensorflow/core/common_runtime/executor.cc:1197] [/device:CPU:0] (DEBUG INFO) Executor start aborting (this does not indicate an error and you can ignore this message): INVALID_ARGUMENT: You must feed a value for placeholder tensor 'batched_las_vegas_algorithm/while/normal/stateless_random_normal/StatelessRandomNormalV2/shape' with dtype int32 and shape [1]\n",
      "\t [[{{node batched_las_vegas_algorithm/while/normal/stateless_random_normal/StatelessRandomNormalV2/shape}}]]\n",
      "2023-04-29 08:38:48.037647: I tensorflow/core/common_runtime/executor.cc:1197] [/device:CPU:0] (DEBUG INFO) Executor start aborting (this does not indicate an error and you can ignore this message): INVALID_ARGUMENT: You must feed a value for placeholder tensor 'batched_las_vegas_algorithm/while/normal/stateless_random_normal/StatelessRandomNormalV2/shape' with dtype int32 and shape [1]\n",
      "\t [[{{node batched_las_vegas_algorithm/while/normal/stateless_random_normal/StatelessRandomNormalV2/shape}}]]\n",
      "2023-04-29 08:38:48.074328: I tensorflow/core/common_runtime/executor.cc:1197] [/device:CPU:0] (DEBUG INFO) Executor start aborting (this does not indicate an error and you can ignore this message): INVALID_ARGUMENT: You must feed a value for placeholder tensor 'shape' with dtype int32 and shape [1]\n",
      "\t [[{{node shape}}]]\n",
      "2023-04-29 08:38:48.074440: I tensorflow/core/common_runtime/executor.cc:1197] [/device:CPU:0] (DEBUG INFO) Executor start aborting (this does not indicate an error and you can ignore this message): INVALID_ARGUMENT: You must feed a value for placeholder tensor 'shape' with dtype int32 and shape [1]\n",
      "\t [[{{node shape}}]]\n",
      "2023-04-29 08:38:48.096476: I tensorflow/core/common_runtime/executor.cc:1197] [/device:CPU:0] (DEBUG INFO) Executor start aborting (this does not indicate an error and you can ignore this message): INVALID_ARGUMENT: You must feed a value for placeholder tensor 'shape' with dtype int32 and shape [1]\n",
      "\t [[{{node shape}}]]\n",
      "2023-04-29 08:38:48.117165: I tensorflow/core/common_runtime/executor.cc:1197] [/device:CPU:0] (DEBUG INFO) Executor start aborting (this does not indicate an error and you can ignore this message): INVALID_ARGUMENT: You must feed a value for placeholder tensor 'shape' with dtype int32 and shape [1]\n",
      "\t [[{{node shape}}]]\n",
      "2023-04-29 08:38:48.117270: I tensorflow/core/common_runtime/executor.cc:1197] [/device:CPU:0] (DEBUG INFO) Executor start aborting (this does not indicate an error and you can ignore this message): INVALID_ARGUMENT: You must feed a value for placeholder tensor 'shape' with dtype int32 and shape [1]\n",
      "\t [[{{node shape}}]]\n",
      "2023-04-29 08:38:48.122733: I tensorflow/core/common_runtime/executor.cc:1197] [/device:CPU:0] (DEBUG INFO) Executor start aborting (this does not indicate an error and you can ignore this message): INVALID_ARGUMENT: You must feed a value for placeholder tensor 'shape' with dtype int32 and shape [1]\n",
      "\t [[{{node shape}}]]\n",
      "2023-04-29 08:38:48.122847: I tensorflow/core/common_runtime/executor.cc:1197] [/device:CPU:0] (DEBUG INFO) Executor start aborting (this does not indicate an error and you can ignore this message): INVALID_ARGUMENT: You must feed a value for placeholder tensor 'shape' with dtype int32 and shape [1]\n",
      "\t [[{{node shape}}]]\n",
      "2023-04-29 08:38:48.264571: I tensorflow/core/common_runtime/executor.cc:1197] [/device:CPU:0] (DEBUG INFO) Executor start aborting (this does not indicate an error and you can ignore this message): INTERNAL: No function library is provided.\n",
      "\t [[{{node square_root_bijectorInverseGamma/sample/InverseGamma/sample/PartitionedCall}}]]\n",
      "2023-04-29 08:38:48.282571: I tensorflow/core/common_runtime/executor.cc:1197] [/device:CPU:0] (DEBUG INFO) Executor start aborting (this does not indicate an error and you can ignore this message): INTERNAL: No function library is provided.\n",
      "\t [[{{node square_root_bijectorInverseGamma/sample_1/InverseGamma/sample/PartitionedCall}}]]\n",
      "2023-04-29 08:38:48.299335: I tensorflow/core/common_runtime/executor.cc:1197] [/device:CPU:0] (DEBUG INFO) Executor start aborting (this does not indicate an error and you can ignore this message): INTERNAL: No function library is provided.\n",
      "\t [[{{node InverseGamma/sample/PartitionedCall}}]]\n",
      "2023-04-29 08:38:48.339586: I tensorflow/core/common_runtime/executor.cc:1197] [/device:CPU:0] (DEBUG INFO) Executor start aborting (this does not indicate an error and you can ignore this message): INVALID_ARGUMENT: You must feed a value for placeholder tensor 'shape' with dtype int32 and shape [2]\n",
      "\t [[{{node shape}}]]\n",
      "2023-04-29 08:38:48.339718: I tensorflow/core/common_runtime/executor.cc:1197] [/device:CPU:0] (DEBUG INFO) Executor start aborting (this does not indicate an error and you can ignore this message): INVALID_ARGUMENT: You must feed a value for placeholder tensor 'shape' with dtype int32 and shape [2]\n",
      "\t [[{{node shape}}]]\n",
      "2023-04-29 08:38:48.351566: I tensorflow/core/common_runtime/executor.cc:1197] [/device:CPU:0] (DEBUG INFO) Executor start aborting (this does not indicate an error and you can ignore this message): INVALID_ARGUMENT: You must feed a value for placeholder tensor 'shape' with dtype int32 and shape [2]\n",
      "\t [[{{node shape}}]]\n",
      "2023-04-29 08:38:48.351684: I tensorflow/core/common_runtime/executor.cc:1197] [/device:CPU:0] (DEBUG INFO) Executor start aborting (this does not indicate an error and you can ignore this message): INVALID_ARGUMENT: You must feed a value for placeholder tensor 'shape' with dtype int32 and shape [2]\n",
      "\t [[{{node shape}}]]\n",
      "2023-04-29 08:38:48.378639: I tensorflow/core/common_runtime/executor.cc:1197] [/device:CPU:0] (DEBUG INFO) Executor start aborting (this does not indicate an error and you can ignore this message): INVALID_ARGUMENT: You must feed a value for placeholder tensor 'batched_las_vegas_algorithm/while/normal/stateless_random_normal/StatelessRandomNormalV2/shape' with dtype int32 and shape [2]\n",
      "\t [[{{node batched_las_vegas_algorithm/while/normal/stateless_random_normal/StatelessRandomNormalV2/shape}}]]\n",
      "2023-04-29 08:38:48.378750: I tensorflow/core/common_runtime/executor.cc:1197] [/device:CPU:0] (DEBUG INFO) Executor start aborting (this does not indicate an error and you can ignore this message): INVALID_ARGUMENT: You must feed a value for placeholder tensor 'batched_las_vegas_algorithm/while/normal/stateless_random_normal/StatelessRandomNormalV2/shape' with dtype int32 and shape [2]\n",
      "\t [[{{node batched_las_vegas_algorithm/while/normal/stateless_random_normal/StatelessRandomNormalV2/shape}}]]\n",
      "2023-04-29 08:38:48.388177: I tensorflow/core/common_runtime/executor.cc:1197] [/device:CPU:0] (DEBUG INFO) Executor start aborting (this does not indicate an error and you can ignore this message): INVALID_ARGUMENT: You must feed a value for placeholder tensor 'batched_las_vegas_algorithm/while/normal/stateless_random_normal/StatelessRandomNormalV2/shape' with dtype int32 and shape [2]\n",
      "\t [[{{node batched_las_vegas_algorithm/while/normal/stateless_random_normal/StatelessRandomNormalV2/shape}}]]\n",
      "2023-04-29 08:38:48.388298: I tensorflow/core/common_runtime/executor.cc:1197] [/device:CPU:0] (DEBUG INFO) Executor start aborting (this does not indicate an error and you can ignore this message): INVALID_ARGUMENT: You must feed a value for placeholder tensor 'batched_las_vegas_algorithm/while/normal/stateless_random_normal/StatelessRandomNormalV2/shape' with dtype int32 and shape [2]\n",
      "\t [[{{node batched_las_vegas_algorithm/while/normal/stateless_random_normal/StatelessRandomNormalV2/shape}}]]\n",
      "2023-04-29 08:38:48.423042: I tensorflow/core/common_runtime/executor.cc:1197] [/device:CPU:0] (DEBUG INFO) Executor start aborting (this does not indicate an error and you can ignore this message): INVALID_ARGUMENT: You must feed a value for placeholder tensor 'shape' with dtype int32 and shape [2]\n",
      "\t [[{{node shape}}]]\n",
      "2023-04-29 08:38:48.423156: I tensorflow/core/common_runtime/executor.cc:1197] [/device:CPU:0] (DEBUG INFO) Executor start aborting (this does not indicate an error and you can ignore this message): INVALID_ARGUMENT: You must feed a value for placeholder tensor 'shape' with dtype int32 and shape [2]\n",
      "\t [[{{node shape}}]]\n",
      "2023-04-29 08:38:48.444543: I tensorflow/core/common_runtime/executor.cc:1197] [/device:CPU:0] (DEBUG INFO) Executor start aborting (this does not indicate an error and you can ignore this message): INVALID_ARGUMENT: You must feed a value for placeholder tensor 'shape' with dtype int32 and shape [2]\n",
      "\t [[{{node shape}}]]\n",
      "2023-04-29 08:38:48.463598: I tensorflow/core/common_runtime/executor.cc:1197] [/device:CPU:0] (DEBUG INFO) Executor start aborting (this does not indicate an error and you can ignore this message): INVALID_ARGUMENT: You must feed a value for placeholder tensor 'shape' with dtype int32 and shape [2]\n",
      "\t [[{{node shape}}]]\n",
      "2023-04-29 08:38:48.463709: I tensorflow/core/common_runtime/executor.cc:1197] [/device:CPU:0] (DEBUG INFO) Executor start aborting (this does not indicate an error and you can ignore this message): INVALID_ARGUMENT: You must feed a value for placeholder tensor 'shape' with dtype int32 and shape [2]\n",
      "\t [[{{node shape}}]]\n",
      "2023-04-29 08:38:48.469363: I tensorflow/core/common_runtime/executor.cc:1197] [/device:CPU:0] (DEBUG INFO) Executor start aborting (this does not indicate an error and you can ignore this message): INVALID_ARGUMENT: You must feed a value for placeholder tensor 'shape' with dtype int32 and shape [2]\n",
      "\t [[{{node shape}}]]\n",
      "2023-04-29 08:38:48.469469: I tensorflow/core/common_runtime/executor.cc:1197] [/device:CPU:0] (DEBUG INFO) Executor start aborting (this does not indicate an error and you can ignore this message): INVALID_ARGUMENT: You must feed a value for placeholder tensor 'shape' with dtype int32 and shape [2]\n",
      "\t [[{{node shape}}]]\n",
      "2023-04-29 08:38:48.608150: I tensorflow/core/common_runtime/executor.cc:1197] [/device:CPU:0] (DEBUG INFO) Executor start aborting (this does not indicate an error and you can ignore this message): INTERNAL: No function library is provided.\n",
      "\t [[{{node IndependentInverseGamma/sample/InverseGamma/sample/PartitionedCall}}]]\n"
     ]
    },
    {
     "name": "stdout",
     "output_type": "stream",
     "text": [
      "WARNING:tensorflow:From /home/studio-lab-user/.conda/envs/tweeteffect/lib/python3.11/site-packages/tensorflow/python/autograph/impl/api.py:458: StructuralTimeSeries.joint_log_prob (from tensorflow_probability.python.sts.structural_time_series) is deprecated and will be removed after 2022-03-01.\n",
      "Instructions for updating:\n",
      "Please use `StructuralTimeSeries.joint_distribution(observed_time_series).log_prob`\n"
     ]
    },
    {
     "name": "stderr",
     "output_type": "stream",
     "text": [
      "2023-04-29 08:38:50.325977: I tensorflow/core/common_runtime/executor.cc:1197] [/device:CPU:0] (DEBUG INFO) Executor start aborting (this does not indicate an error and you can ignore this message): INTERNAL: No function library is provided.\n",
      "\t [[{{node square_root_bijectorInverseGamma_CONSTRUCTED_AT_joint_log_prob/sample/InverseGamma/sample/PartitionedCall}}]]\n",
      "2023-04-29 08:38:50.348805: I tensorflow/core/common_runtime/executor.cc:1197] [/device:CPU:0] (DEBUG INFO) Executor start aborting (this does not indicate an error and you can ignore this message): INTERNAL: No function library is provided.\n",
      "\t [[{{node square_root_bijectorInverseGamma_1_CONSTRUCTED_AT_joint_log_prob/sample/InverseGamma/sample/PartitionedCall}}]]\n",
      "2023-04-29 08:38:50.404697: I tensorflow/core/common_runtime/executor.cc:1197] [/device:CPU:0] (DEBUG INFO) Executor start aborting (this does not indicate an error and you can ignore this message): INTERNAL: No function library is provided.\n",
      "\t [[{{node IndependentInverseGamma_CONSTRUCTED_AT_joint_log_prob/sample/InverseGamma/sample/PartitionedCall}}]]\n",
      "2023-04-29 08:38:50.485595: I tensorflow/core/common_runtime/executor.cc:1197] [/device:CPU:0] (DEBUG INFO) Executor start aborting (this does not indicate an error and you can ignore this message): INTERNAL: No function library is provided.\n",
      "\t [[{{node monte_carlo_variational_loss/expectation/square_root_bijectorInverseGamma_CONSTRUCTED_AT_joint_log_prob/sample/InverseGamma/sample/PartitionedCall}}]]\n",
      "2023-04-29 08:38:50.508375: I tensorflow/core/common_runtime/executor.cc:1197] [/device:CPU:0] (DEBUG INFO) Executor start aborting (this does not indicate an error and you can ignore this message): INTERNAL: No function library is provided.\n",
      "\t [[{{node monte_carlo_variational_loss/expectation/square_root_bijectorInverseGamma_1_CONSTRUCTED_AT_joint_log_prob/sample/InverseGamma/sample/PartitionedCall}}]]\n"
     ]
    },
    {
     "name": "stdout",
     "output_type": "stream",
     "text": [
      "WARNING:tensorflow:From /home/studio-lab-user/.conda/envs/tweeteffect/lib/python3.11/site-packages/tensorflow_probability/python/distributions/distribution.py:342: calling MultivariateNormalDiag.__init__ (from tensorflow_probability.python.distributions.mvn_diag) with scale_identity_multiplier is deprecated and will be removed after 2020-01-01.\n",
      "Instructions for updating:\n",
      "`scale_identity_multiplier` is deprecated; please combine it into `scale_diag` directly instead.\n"
     ]
    },
    {
     "name": "stderr",
     "output_type": "stream",
     "text": [
      "2023-04-29 08:38:50.563576: I tensorflow/core/common_runtime/executor.cc:1197] [/device:CPU:0] (DEBUG INFO) Executor start aborting (this does not indicate an error and you can ignore this message): INTERNAL: No function library is provided.\n",
      "\t [[{{node monte_carlo_variational_loss/expectation/IndependentInverseGamma_CONSTRUCTED_AT_joint_log_prob/sample/InverseGamma/sample/PartitionedCall}}]]\n",
      "2023-04-29 08:38:53.935889: I tensorflow/core/common_runtime/executor.cc:1197] [/device:CPU:0] (DEBUG INFO) Executor start aborting (this does not indicate an error and you can ignore this message): INTERNAL: No function library is provided.\n",
      "\t [[{{node monte_carlo_variational_loss/expectation/square_root_bijectorInverseGamma_CONSTRUCTED_AT_joint_log_prob/sample/InverseGamma/sample/PartitionedCall}}]]\n",
      "2023-04-29 08:38:53.957128: I tensorflow/core/common_runtime/executor.cc:1197] [/device:CPU:0] (DEBUG INFO) Executor start aborting (this does not indicate an error and you can ignore this message): INTERNAL: No function library is provided.\n",
      "\t [[{{node monte_carlo_variational_loss/expectation/square_root_bijectorInverseGamma_1_CONSTRUCTED_AT_joint_log_prob/sample/InverseGamma/sample/PartitionedCall}}]]\n",
      "2023-04-29 08:38:54.008691: I tensorflow/core/common_runtime/executor.cc:1197] [/device:CPU:0] (DEBUG INFO) Executor start aborting (this does not indicate an error and you can ignore this message): INTERNAL: No function library is provided.\n",
      "\t [[{{node monte_carlo_variational_loss/expectation/IndependentInverseGamma_CONSTRUCTED_AT_joint_log_prob/sample/InverseGamma/sample/PartitionedCall}}]]\n",
      "2023-04-29 08:38:56.404810: I tensorflow/core/common_runtime/executor.cc:1197] [/device:CPU:0] (DEBUG INFO) Executor start aborting (this does not indicate an error and you can ignore this message): INTERNAL: No function library is provided.\n",
      "\t [[{{node monte_carlo_variational_loss/expectation/square_root_bijectorInverseGamma_1_CONSTRUCTED_AT_joint_log_prob/sample/InverseGamma/sample/PartitionedCall}}]]\n",
      "2023-04-29 08:38:56.406572: I tensorflow/core/common_runtime/executor.cc:1197] [/device:CPU:0] (DEBUG INFO) Executor start aborting (this does not indicate an error and you can ignore this message): INTERNAL: No function library is provided.\n",
      "\t [[{{node monte_carlo_variational_loss/expectation/square_root_bijectorInverseGamma_CONSTRUCTED_AT_joint_log_prob/sample/InverseGamma/sample/PartitionedCall}}]]\n",
      "2023-04-29 08:38:56.409150: I tensorflow/core/common_runtime/executor.cc:1197] [/device:CPU:0] (DEBUG INFO) Executor start aborting (this does not indicate an error and you can ignore this message): INTERNAL: No function library is provided.\n",
      "\t [[{{node monte_carlo_variational_loss/expectation/IndependentInverseGamma_CONSTRUCTED_AT_joint_log_prob/sample/InverseGamma/sample/PartitionedCall}}]]\n",
      "2023-04-29 08:38:56.413136: I tensorflow/core/common_runtime/executor.cc:1197] [/device:CPU:0] (DEBUG INFO) Executor start aborting (this does not indicate an error and you can ignore this message): INTERNAL: No function library is provided.\n",
      "\t [[{{node monte_carlo_variational_loss/expectation/InverseGamma_CONSTRUCTED_AT_joint_log_prob/sample/PartitionedCall}}]]\n",
      "2023-04-29 08:38:57.569327: I tensorflow/core/common_runtime/executor.cc:1197] [/device:CPU:0] (DEBUG INFO) Executor start aborting (this does not indicate an error and you can ignore this message): INTERNAL: No function library is provided.\n",
      "\t [[{{node monte_carlo_variational_loss/expectation/square_root_bijectorInverseGamma_CONSTRUCTED_AT_joint_log_prob/sample/InverseGamma/sample/PartitionedCall}}]]\n",
      "2023-04-29 08:38:57.589087: I tensorflow/core/common_runtime/executor.cc:1197] [/device:CPU:0] (DEBUG INFO) Executor start aborting (this does not indicate an error and you can ignore this message): INTERNAL: No function library is provided.\n",
      "\t [[{{node monte_carlo_variational_loss/expectation/square_root_bijectorInverseGamma_1_CONSTRUCTED_AT_joint_log_prob/sample/InverseGamma/sample/PartitionedCall}}]]\n",
      "2023-04-29 08:38:57.638755: I tensorflow/core/common_runtime/executor.cc:1197] [/device:CPU:0] (DEBUG INFO) Executor start aborting (this does not indicate an error and you can ignore this message): INTERNAL: No function library is provided.\n",
      "\t [[{{node monte_carlo_variational_loss/expectation/IndependentInverseGamma_CONSTRUCTED_AT_joint_log_prob/sample/InverseGamma/sample/PartitionedCall}}]]\n",
      "2023-04-29 08:39:00.309993: I tensorflow/core/common_runtime/executor.cc:1197] [/device:CPU:0] (DEBUG INFO) Executor start aborting (this does not indicate an error and you can ignore this message): INVALID_ARGUMENT: You must feed a value for placeholder tensor 'fit_surrogate_posterior/trace_scan/while/cond/joint_log_prob/InverseGamma/concentration' with dtype float\n",
      "\t [[{{node fit_surrogate_posterior/trace_scan/while/cond/joint_log_prob/InverseGamma/concentration}}]]\n",
      "2023-04-29 08:39:00.367038: I tensorflow/core/common_runtime/executor.cc:1197] [/device:CPU:0] (DEBUG INFO) Executor start aborting (this does not indicate an error and you can ignore this message): INTERNAL: No function library is provided.\n",
      "\t [[{{node monte_carlo_variational_loss/expectation/IndependentInverseGamma_CONSTRUCTED_AT_joint_log_prob/sample/InverseGamma/sample/PartitionedCall}}]]\n",
      "2023-04-29 08:39:00.370791: I tensorflow/core/common_runtime/executor.cc:1197] [/device:CPU:0] (DEBUG INFO) Executor start aborting (this does not indicate an error and you can ignore this message): INTERNAL: No function library is provided.\n",
      "\t [[{{node monte_carlo_variational_loss/expectation/square_root_bijectorInverseGamma_CONSTRUCTED_AT_joint_log_prob/sample/InverseGamma/sample/PartitionedCall}}]]\n",
      "2023-04-29 08:39:00.371547: I tensorflow/core/common_runtime/executor.cc:1197] [/device:CPU:0] (DEBUG INFO) Executor start aborting (this does not indicate an error and you can ignore this message): INTERNAL: No function library is provided.\n",
      "\t [[{{node monte_carlo_variational_loss/expectation/square_root_bijectorInverseGamma_1_CONSTRUCTED_AT_joint_log_prob/sample/InverseGamma/sample/PartitionedCall}}]]\n"
     ]
    },
    {
     "name": "stdout",
     "output_type": "stream",
     "text": [
      "WARNING:tensorflow:From /home/studio-lab-user/.conda/envs/tweeteffect/lib/python3.11/site-packages/causalimpact/model.py:404: calling one_step_predictive (from tensorflow_probability.python.sts.forecast) with timesteps_are_event_shape=True is deprecated and will be removed after 2021-12-31.\n",
      "Instructions for updating:\n",
      "`Predictive distributions returned by`tfp.sts.one_step_predictive` will soon compute per-timestep probabilities (treating timesteps as part of the batch shape) instead of a single probability for an entire series (the current approach, in which timesteps are treated as event shape). Please update your code to pass `timesteps_are_event_shape=False` (this will soon be the default) and to explicitly sum over the per-timestep log probabilities if this is required.\n"
     ]
    },
    {
     "name": "stderr",
     "output_type": "stream",
     "text": [
      "2023-04-29 08:39:37.343073: I tensorflow/core/common_runtime/executor.cc:1197] [/device:CPU:0] (DEBUG INFO) Executor start aborting (this does not indicate an error and you can ignore this message): INVALID_ARGUMENT: You must feed a value for placeholder tensor 'AdditiveStateSpaceModel/sample/AdditiveStateSpaceModel/sample_n_joint/scan/while/strided_slice/AdditiveStateSpaceModel/sample/AdditiveStateSpaceModel/sample_n_joint/concat_1' with dtype int32 and shape [2]\n",
      "\t [[{{node AdditiveStateSpaceModel/sample/AdditiveStateSpaceModel/sample_n_joint/scan/while/strided_slice/AdditiveStateSpaceModel/sample/AdditiveStateSpaceModel/sample_n_joint/concat_1}}]]\n",
      "2023-04-29 08:39:37.441135: I tensorflow/core/common_runtime/executor.cc:1197] [/device:CPU:0] (DEBUG INFO) Executor start aborting (this does not indicate an error and you can ignore this message): INVALID_ARGUMENT: You must feed a value for placeholder tensor 'AdditiveStateSpaceModel/sample/AdditiveStateSpaceModel/sample_n_joint/scan/while/strided_slice/AdditiveStateSpaceModel/sample/AdditiveStateSpaceModel/sample_n_joint/concat_1' with dtype int32 and shape [2]\n",
      "\t [[{{node AdditiveStateSpaceModel/sample/AdditiveStateSpaceModel/sample_n_joint/scan/while/strided_slice/AdditiveStateSpaceModel/sample/AdditiveStateSpaceModel/sample_n_joint/concat_1}}]]\n"
     ]
    }
   ],
   "source": [
    "#Google Causal Impact\n",
    "impact = CausalImpact(data = df_final_regular,\n",
    "                      pre_period = pre_period,\n",
    "                      post_period = post_period)"
   ]
  },
  {
   "cell_type": "markdown",
   "id": "f2e1ad8f-72f9-4554-89a3-3c5b1d474fe1",
   "metadata": {},
   "source": [
    "## Summary Stats and Visualization"
   ]
  },
  {
   "cell_type": "code",
   "execution_count": 21,
   "id": "e3e9d8aa-4cdc-4392-9110-8a37609d1c48",
   "metadata": {},
   "outputs": [
    {
     "data": {
      "image/png": "[encoded data removed]",
      "text/plain": [
       "<Figure size 1000x700 with 3 Axes>"
      ]
     },
     "metadata": {},
     "output_type": "display_data"
    }
   ],
   "source": [
    "impact.plot()"
   ]
  },
  {
   "cell_type": "code",
   "execution_count": 22,
   "id": "920ce651-2c70-431f-a6eb-7b02bccf6b78",
   "metadata": {},
   "outputs": [
    {
     "name": "stdout",
     "output_type": "stream",
     "text": [
      "Posterior Inference {Causal Impact}\n",
      "                          Average            Cumulative\n",
      "Actual                    0.01               0.44\n",
      "Prediction (s.d.)         0.0 (0.0)          0.17 (0.01)\n",
      "95% CI                    [0.0, 0.0]         [0.14, 0.19]\n",
      "\n",
      "Absolute effect (s.d.)    0.01 (0.0)         0.28 (0.01)\n",
      "95% CI                    [0.01, 0.01]       [0.25, 0.3]\n",
      "\n",
      "Relative effect (s.d.)    166.21% (7.99%)    166.21% (7.99%)\n",
      "95% CI                    [150.82%, 182.13%] [150.82%, 182.13%]\n",
      "\n",
      "Posterior tail-area probability p: 0.0\n",
      "Posterior prob. of a causal effect: 100.0%\n",
      "\n",
      "For more details run the command: print(impact.summary('report'))\n"
     ]
    }
   ],
   "source": [
    "print(impact.summary())"
   ]
  },
  {
   "cell_type": "markdown",
   "id": "ac948e76-3014-41f1-9de5-12b4ae8efe2d",
   "metadata": {},
   "source": [
    "# Conclusion\n",
    "Overall, the output suggests that there is strong evidence of a causal effect and that the effect is statistically significant."
   ]
  },
  {
   "cell_type": "code",
   "execution_count": 23,
   "id": "714d3999-3869-457c-a5f9-e6f6e74cccbc",
   "metadata": {},
   "outputs": [
    {
     "name": "stdout",
     "output_type": "stream",
     "text": [
      "Analysis report {CausalImpact}\n",
      "\n",
      "\n",
      "During the post-intervention period, the response variable had\n",
      "an average value of approx. 0.01. By contrast, in the absence of an\n",
      "intervention, we would have expected an average response of 0.0.\n",
      "The 95% interval of this counterfactual prediction is [0.0, 0.0].\n",
      "Subtracting this prediction from the observed response yields\n",
      "an estimate of the causal effect the intervention had on the\n",
      "response variable. This effect is 0.01 with a 95% interval of\n",
      "[0.01, 0.01]. For a discussion of the significance of this effect,\n",
      "see below.\n",
      "\n",
      "\n",
      "Summing up the individual data points during the post-intervention\n",
      "period (which can only sometimes be meaningfully interpreted), the\n",
      "response variable had an overall value of 0.44.\n",
      "By contrast, had the intervention not taken place, we would have expected\n",
      "a sum of 0.17. The 95% interval of this prediction is [0.14, 0.19].\n",
      "\n",
      "\n",
      "The above results are given in terms of absolute numbers. In relative\n",
      "terms, the response variable showed an increase of +166.21%. The 95%\n",
      "interval of this percentage is [150.82%, 182.13%].\n",
      "\n",
      "\n",
      "This means that the positive effect observed during the intervention\n",
      "period is statistically significant and unlikely to be due to random\n",
      "fluctuations. It should be noted, however, that the question of whether\n",
      "this increase also bears substantive significance can only be answered\n",
      "by comparing the absolute effect (0.01) to the original goal\n",
      "of the underlying intervention.\n",
      "\n",
      "\n",
      "The probability of obtaining this effect by chance is very small\n",
      "(Bayesian one-sided tail-area probability p = 0.0).\n",
      "This means the causal effect can be considered statistically\n",
      "significant.\n"
     ]
    }
   ],
   "source": [
    "#Summary report\n",
    "print(impact.summary('report'))"
   ]
  }
 ],
 "metadata": {
  "kernelspec": {
   "display_name": "tweeteffect:Python",
   "language": "python",
   "name": "conda-env-tweeteffect-py"
  },
  "language_info": {
   "codemirror_mode": {
    "name": "ipython",
    "version": 3
   },
   "file_extension": ".py",
   "mimetype": "text/x-python",
   "name": "python",
   "nbconvert_exporter": "python",
   "pygments_lexer": "ipython3",
   "version": "3.11.3"
  }
 },
 "nbformat": 4,
 "nbformat_minor": 5
}
